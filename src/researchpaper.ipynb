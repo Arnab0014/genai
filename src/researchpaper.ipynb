{
 "cells": [
  {
   "cell_type": "markdown",
   "metadata": {},
   "source": [
    "Research papers to read\n",
    "https://arxiv.org/pdf/2306.07303 (A COMPREHENSIVE SURVEY ON APPLICATIONS OF TRANSFORMERS FOR DEEP LEARNING TASKS)\n",
    "https://arxiv.org/pdf/1801.06146 (Universal Language Model Fine-tuning for Text Classification)\n",
    "https://arxiv.org/pdf/1706.03762 (Attention Is All You Need )\n",
    "https://arxiv.org/pdf/1409.0473 (NEURAL MACHINE TRANSLATION BY JOINTLY LEARNING TO ALIGN AND TRANSLATE) \n",
    "https://arxiv.org/pdf/1409.3215v3 (Sequence to Sequence Learning with Neural Networks)"
   ]
  }
 ],
 "metadata": {
  "language_info": {
   "name": "python"
  }
 },
 "nbformat": 4,
 "nbformat_minor": 2
}
